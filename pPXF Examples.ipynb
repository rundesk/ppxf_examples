{
 "cells": [
  {
   "cell_type": "markdown",
   "id": "2ed01e4b",
   "metadata": {},
   "source": [
    "# Fitting photometry and spectra together"
   ]
  },
  {
   "cell_type": "code",
   "execution_count": null,
   "id": "2e218996",
   "metadata": {},
   "outputs": [],
   "source": [
    "from os import path\n",
    "\n",
    "import numpy as np\n",
    "import matplotlib.pyplot as plt\n",
    "from astropy.io import fits\n",
    "\n",
    "import ppxf as ppxf_package\n",
    "from ppxf.ppxf import ppxf\n",
    "import ppxf.ppxf_util as util\n",
    "import ppxf.miles_util as lib"
   ]
  },
  {
   "cell_type": "code",
   "execution_count": 3,
   "id": "2e4a30ad",
   "metadata": {},
   "outputs": [],
   "source": [
    "ppxf_dir = path.dirname(path.realpath(ppxf_package.__file__))"
   ]
  },
  {
   "cell_type": "markdown",
   "id": "91f47741",
   "metadata": {},
   "source": [
    "## Read the observed galaxy spectrum\n",
    "\n",
    "Read SDSS DR8 galaxy spectrum taken from here http://www.sdss3.org/dr8/\n",
    "The spectrum is *already* log rebinned by the SDSS DR8 pipeline and log_rebin should not be used in this case"
   ]
  },
  {
   "cell_type": "code",
   "execution_count": 4,
   "id": "9a86ec5d",
   "metadata": {},
   "outputs": [],
   "source": [
    "file = ppxf_dir + '/spectra/NGC3073_SDSS_DR8.fits'\n",
    "hdu = fits.open(file)\n",
    "t = hdu[1].data\n",
    "z = float(hdu[1].header[\"Z\"]) # SDSS redshift estimate"
   ]
  },
  {
   "cell_type": "markdown",
   "id": "6310200b",
   "metadata": {},
   "source": [
    "Only use the wavelength range in common between galaxy and stellar library."
   ]
  },
  {
   "cell_type": "code",
   "execution_count": 7,
   "id": "94831d55",
   "metadata": {},
   "outputs": [],
   "source": [
    "mask = (t['wavelength'] > 3540) & (t['wavelength'] < 7409)\n",
    "flux = t['flux'][mask]\n",
    "galaxy = flux/np.median(flux)   # Normalize spectrum to avoid numerical issues\n",
    "wave = t['wavelength'][mask]"
   ]
  },
  {
   "cell_type": "markdown",
   "id": "131170cb",
   "metadata": {},
   "source": [
    "The SDSS wavelengths are in vacuum, while the MILES ones are in air. For a rigorous treatment, the SDSS vacuum wavelengths should be converted into air wavelengths and the spectra should be resampled. To avoid resampling, given that the wavelength dependence of the correction is very weak, I approximate it with a constant factor.\n"
   ]
  },
  {
   "cell_type": "code",
   "execution_count": 8,
   "id": "333f0b77",
   "metadata": {},
   "outputs": [],
   "source": [
    "wave *= np.median(util.vac_to_air(wave)/wave)"
   ]
  },
  {
   "cell_type": "code",
   "execution_count": null,
   "id": "08c7e13b",
   "metadata": {},
   "outputs": [],
   "source": []
  }
 ],
 "metadata": {
  "kernelspec": {
   "display_name": "Python 3 (ipykernel)",
   "language": "python",
   "name": "python3"
  },
  "language_info": {
   "codemirror_mode": {
    "name": "ipython",
    "version": 3
   },
   "file_extension": ".py",
   "mimetype": "text/x-python",
   "name": "python",
   "nbconvert_exporter": "python",
   "pygments_lexer": "ipython3",
   "version": "3.9.7"
  }
 },
 "nbformat": 4,
 "nbformat_minor": 5
}
