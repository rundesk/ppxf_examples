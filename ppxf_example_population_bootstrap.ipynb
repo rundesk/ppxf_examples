{
 "cells": [
  {
   "cell_type": "markdown",
   "metadata": {
    "pycharm": {
     "name": "#%% md\n"
    }
   },
   "source": [
    "# pPXF: Bootstrapping non-parametric stellar population\n",
    "\n",
    "Usage example for the procedure PPXF, which implements the Penalized Pixel-Fitting (pPXF) method originally described in [Cappellari & Emsellem (2004)](http://adsabs.harvard.edu/abs/2004PASP..116..138C) and upgraded in [Cappellari (2017)](http://adsabs.harvard.edu/abs/2017MNRAS.466..798C).\n",
    "\n",
    "Michele Cappellari, Oxford, 29 March 2022\n",
    "\n",
    "![Image](https://www-astro.physics.ox.ac.uk/~cappellari/software/ppxf_logo.png)"
   ]
  },
  {
   "cell_type": "code",
   "execution_count": 2,
   "metadata": {},
   "outputs": [],
   "source": [
    "from time import perf_counter as clock\n",
    "from os import path\n",
    "import numpy as np\n",
    "\n",
    "import matplotlib.pyplot as plt\n",
    "from astropy.io import fits\n",
    "\n",
    "from ppxf.ppxf import ppxf\n",
    "import ppxf.ppxf_util as util\n",
    "import ppxf.miles_util as lib"
   ]
  },
  {
   "cell_type": "markdown",
   "metadata": {
    "pycharm": {
     "name": "#%% md\n"
    }
   },
   "source": [
    "## Function to boostrap the spectrum residuals"
   ]
  },
  {
   "cell_type": "code",
   "execution_count": 3,
   "metadata": {
    "collapsed": false,
    "jupyter": {
     "outputs_hidden": false
    },
    "pycharm": {
     "name": "#%%\n"
    }
   },
   "outputs": [],
   "source": [
    "def bootstrap_residuals(model, resid, wild=True):\n",
    "    \"\"\"\n",
    "    https://en.wikipedia.org/wiki/Bootstrapping_(statistics)#Resampling_residuals\n",
    "    https://en.wikipedia.org/wiki/Bootstrapping_(statistics)#Wild_bootstrap\n",
    "\n",
    "    Davidson & Flachaire (2008) eq.(12) gives the reccomended form\n",
    "    of the wild bootrsapping probability used here.\n",
    "\n",
    "    https://doi.org/10.1016/j.jeconom.2008.08.003\n",
    "\n",
    "    :param spec: model (e.g. best fitting spectrum)\n",
    "    :param res: residuals (best_fit - observed)\n",
    "    :param wild: use wild bootsrap to allow for variable errors\n",
    "    :return: new model with bootstrapped residuals\n",
    "\n",
    "    \"\"\"\n",
    "    if wild:    # Wild Bootstrapping: generates -resid or resid with prob=1/2\n",
    "        eps = resid*(2*np.random.randint(2, size=resid.size) - 1)\n",
    "    else:       # Standard Bootstrapping: random selection with repetition\n",
    "        eps = np.random.choice(resid, size=resid.size)\n",
    "\n",
    "    return model + eps"
   ]
  },
  {
   "cell_type": "markdown",
   "metadata": {
    "pycharm": {
     "name": "#%% md\n"
    }
   },
   "source": [
    "## Read the spectrum\n",
    "\n",
    "Read SDSS DR8 galaxy spectrum taken from here http://www.sdss3.org/dr8/\n",
    "The spectrum is *already* log rebinned by the SDSS DR8 pipeline and `ppxf_util.log_rebin` should not be used in this case."
   ]
  },
  {
   "cell_type": "code",
   "execution_count": 4,
   "metadata": {},
   "outputs": [],
   "source": [
    "ppxf_dir = path.dirname(path.realpath(lib.__file__))\n",
    "file = ppxf_dir + '/spectra/NGC3522_SDSS_DR8.fits'\n",
    "hdu = fits.open(file)\n",
    "t = hdu[1].data"
   ]
  },
  {
   "cell_type": "code",
   "execution_count": 5,
   "metadata": {},
   "outputs": [],
   "source": [
    "z = float(hdu[1].header[\"Z\"])               # SDSS redshift estimate\n",
    "galaxy = t['flux']/np.median(t['flux'])     # Normalize spectrum to avoid numerical issues\n",
    "wave = t['wavelength']"
   ]
  },
  {
   "cell_type": "markdown",
   "metadata": {},
   "source": [
    "The SDSS wavelengths are in vacuum, while the MILES ones are in air. For a rigorous treatment, the SDSS vacuum wavelengths should be converted into air wavelengths and the spectra should be resampled. To avoid resampling, given that the wavelength dependence of the correction is very weak, I approximate it with a constant factor.\n"
   ]
  },
  {
   "cell_type": "code",
   "execution_count": 6,
   "metadata": {},
   "outputs": [],
   "source": [
    "wave *= np.median(util.vac_to_air(wave)/wave)"
   ]
  },
  {
   "cell_type": "markdown",
   "metadata": {},
   "source": [
    "I choose the noise to give $\\chi^2/{\\rm DOF}=1$ without regularization (`regul=0`).\n",
    "A constant noise is not a bad approximation in the fitted wavelength range and reduces the noise in the fit.\n"
   ]
  },
  {
   "cell_type": "code",
   "execution_count": 7,
   "metadata": {},
   "outputs": [],
   "source": [
    "noise = np.full_like(galaxy, 0.01635)  # Assume constant noise per pixel here"
   ]
  },
  {
   "cell_type": "markdown",
   "metadata": {},
   "source": [
    "The velocity step per spectral pixel was already chosen by the SDSS pipeline and I convert it below to km/s.\n"
   ]
  },
  {
   "cell_type": "code",
   "execution_count": 8,
   "metadata": {},
   "outputs": [],
   "source": [
    "c = 299792.458                          # speed of light in km/s\n",
    "velscale = c*np.log(wave[1]/wave[0])    # eq. (8) of Cappellari (2017)\n",
    "FWHM_gal = 2.76                         # SDSS has an approximate instrumental resolution FWHM of 2.76A."
   ]
  },
  {
   "cell_type": "markdown",
   "metadata": {},
   "source": [
    "## Setup the stellar templates"
   ]
  },
  {
   "cell_type": "code",
   "execution_count": 9,
   "metadata": {},
   "outputs": [],
   "source": [
    "pathname = ppxf_dir + '/miles_models/Eun1.30*.fits'"
   ]
  },
  {
   "cell_type": "markdown",
   "metadata": {},
   "source": [
    "I normalize the templates to `mean=1` within the FWHM of the V-band. In this way the weights returned by pPXF and mean values are light-weighted quantities"
   ]
  },
  {
   "cell_type": "code",
   "execution_count": 10,
   "metadata": {},
   "outputs": [],
   "source": [
    "miles = lib.miles(pathname, velscale, FWHM_gal, norm_range=[5070, 5950])"
   ]
  },
  {
   "cell_type": "markdown",
   "metadata": {},
   "source": [
    "I reshape the stellar templates into a 2-dim array with each spectrum as a column, however we save the original array dimensions, which are needed to specify the regularization dimensions\n"
   ]
  },
  {
   "cell_type": "code",
   "execution_count": 11,
   "metadata": {},
   "outputs": [],
   "source": [
    "reg_dim = miles.templates.shape[1:]\n",
    "stars_templates = miles.templates.reshape(miles.templates.shape[0], -1)"
   ]
  },
  {
   "cell_type": "markdown",
   "metadata": {},
   "source": [
    "I want the first `pPXF` fit to be regularized because this suppresses the noise makes it more representative of the underlying galaxy spectrum. See the `pPXF` documentation for the keyword `regul`"
   ]
  },
  {
   "cell_type": "code",
   "execution_count": 12,
   "metadata": {},
   "outputs": [],
   "source": [
    "regul_err = 0.1  # Large regularization error"
   ]
  },
  {
   "cell_type": "markdown",
   "metadata": {},
   "source": [
    "## Setup the gas emission lines templates\n",
    "\n",
    "This is the estimated wavelength fitted range in the rest frame. It is needed to find which gas emission lines fall within the observed range."
   ]
  },
  {
   "cell_type": "code",
   "execution_count": 13,
   "metadata": {},
   "outputs": [],
   "source": [
    "lam_range_gal = np.array([np.min(wave), np.max(wave)])/(1 + z)"
   ]
  },
  {
   "cell_type": "markdown",
   "metadata": {},
   "source": [
    "I construct a set of Gaussian emission line templates. The `ppxf_util.emission_lines` function defines the most common lines, but `pPXF` allows complete freedom to add additional lines by simply editing the function in the file `ppxf_util.py`. I fix the ratios of the Balmer lines using the `tie_balmer=True` keyword."
   ]
  },
  {
   "cell_type": "code",
   "execution_count": 14,
   "metadata": {},
   "outputs": [
    {
     "name": "stdout",
     "output_type": "stream",
     "text": [
      "Emission lines included in gas templates:\n",
      "['Balmer' '[SII]6716' '[SII]6731' '[OIII]5007_d' '[OI]6300_d'\n",
      " '[NII]6583_d']\n"
     ]
    }
   ],
   "source": [
    "gas_templates, gas_names, line_wave = util.emission_lines(miles.ln_lam_temp, lam_range_gal, FWHM_gal, tie_balmer=1)"
   ]
  },
  {
   "cell_type": "markdown",
   "metadata": {},
   "source": [
    "I combines the stellar and gaseous templates into a single array of templates. During the PPXF fit they will be assigned a different kinematic `component` value.\n"
   ]
  },
  {
   "cell_type": "code",
   "execution_count": 15,
   "metadata": {},
   "outputs": [],
   "source": [
    "templates = np.column_stack([stars_templates, gas_templates])"
   ]
  },
  {
   "cell_type": "markdown",
   "metadata": {
    "pycharm": {
     "name": "#%% md\n"
    }
   },
   "source": [
    "## Input parameters for pPXF\n",
    "\n",
    "The expression below is the **definition** of velocities in `pPXF`. One should always use this precise expression rather than other approximations. E.g. **never** use $z\\approx V/c$. See Sec. 2.3 of [Cappellari (2017)](https://ui.adsabs.harvard.edu/abs/2017MNRAS.466..798C/abstract) for details"
   ]
  },
  {
   "cell_type": "code",
   "execution_count": 16,
   "metadata": {},
   "outputs": [],
   "source": [
    "c = 299792.458\n",
    "vel = c*np.log(1 + z)   # eq. (8) of Cappellari (2017)\n",
    "start = [vel, 180.]     # (km/s), starting guess for [V, sigma]"
   ]
  },
  {
   "cell_type": "markdown",
   "metadata": {
    "pycharm": {
     "name": "#%% md\n"
    }
   },
   "source": [
    "In this example I consider two gas components, one for the Balmer and another for the forbidden lines."
   ]
  },
  {
   "cell_type": "code",
   "execution_count": 17,
   "metadata": {},
   "outputs": [],
   "source": [
    "n_temps = stars_templates.shape[1]\n",
    "n_forbidden = np.sum([\"[\" in a for a in gas_names])  # forbidden lines contain \"[*]\"\n",
    "n_balmer = len(gas_names) - n_forbidden"
   ]
  },
  {
   "cell_type": "markdown",
   "metadata": {},
   "source": [
    "Assign `component=0` to the stellar templates, `component=1` to the Balmer gas emission lines templates and `component=2` to the gas forbidden lines."
   ]
  },
  {
   "cell_type": "code",
   "execution_count": 18,
   "metadata": {},
   "outputs": [],
   "source": [
    "component = [0]*n_temps + [1]*n_balmer + [2]*n_forbidden\n",
    "gas_component = np.array(component) > 0  # gas_component=True for gas templates"
   ]
  },
  {
   "cell_type": "markdown",
   "metadata": {},
   "source": [
    "Fit two moments (V, sig) `moments=2` for the stars and for the two gas kinematic components"
   ]
  },
  {
   "cell_type": "code",
   "execution_count": 19,
   "metadata": {},
   "outputs": [],
   "source": [
    "moments = [2, 2, 2]"
   ]
  },
  {
   "cell_type": "markdown",
   "metadata": {},
   "source": [
    "Adopt the same starting value for the stars and the two gas components"
   ]
  },
  {
   "cell_type": "code",
   "execution_count": 20,
   "metadata": {},
   "outputs": [],
   "source": [
    "start = [start, start, start]"
   ]
  },
  {
   "cell_type": "markdown",
   "metadata": {
    "pycharm": {
     "name": "#%% md\n"
    }
   },
   "source": [
    "## The first pPXF fit with regularization\n",
    "\n",
    "I enforce some regularization on the solution with `regul` and I fit for a different reddening for the stars and the gas."
   ]
  },
  {
   "cell_type": "code",
   "execution_count": 21,
   "metadata": {},
   "outputs": [
    {
     "name": "stdout",
     "output_type": "stream",
     "text": [
      " Best Fit:       Vel     sigma\n",
      " comp.  0:      1212        99\n",
      " comp.  1:      1208        88\n",
      " comp.  2:      1198        80\n",
      "Stars Reddening E(B-V): 0.070\n",
      "Gas Reddening E(B-V): 0.000\n",
      "chi2/DOF: 1.236; DOF: 3839; degree = -1; mdegree = 0\n",
      "method = capfit; Jac calls: 4; Func calls: 38; Status: 2\n",
      "linear_method = lsq_box; Nonzero Templates (>0.1%): 28/156\n",
      "+++++++++++++++++++++++++++++++++++++++++++++++++++++++++++++++++\n",
      "gas_component           name        flux       err      V     sig\n",
      "+++++++++++++++++++++++++++++++++++++++++++++++++++++++++++++++++\n",
      "Comp:  1                Balmer      2.619     0.070    1208    88\n",
      "Comp:  2             [SII]6716     0.3373     0.037    1198    80\n",
      "Comp:  2             [SII]6731     0.2724     0.037    1198    80\n",
      "Comp:  2          [OIII]5007_d      1.273     0.049    1198    80\n",
      "Comp:  2            [OI]6300_d    0.03054     0.047    1198    80\n",
      "Comp:  2           [NII]6583_d     0.5206     0.046    1198    80\n",
      "-----------------------------------------------------------------\n",
      "Elapsed time in PPXF: 1.97 s\n"
     ]
    }
   ],
   "source": [
    "t = clock()\n",
    "pp = ppxf(templates, galaxy, noise, velscale, start,\n",
    "          moments=moments, degree=-1, mdegree=-1, lam=wave, lam_temp=miles.lam_temp,\n",
    "          regul=1/regul_err, reg_dim=reg_dim, component=component, gas_component=gas_component,\n",
    "          gas_names=gas_names, reddening=0, gas_reddening=0)\n",
    "print('Elapsed time in PPXF: %.2f s' % (clock() - t))"
   ]
  },
  {
   "cell_type": "markdown",
   "metadata": {},
   "source": [
    "Plot fit results for stars and gas."
   ]
  },
  {
   "cell_type": "code",
   "execution_count": 22,
   "metadata": {
    "collapsed": false,
    "jupyter": {
     "outputs_hidden": false
    },
    "pycharm": {
     "name": "#%%\n"
    }
   },
   "outputs": [
    {
     "data": {
      "text/plain": "<Figure size 1080x360 with 1 Axes>",
      "image/png": "[encoded data removed]"
     },
     "metadata": {
      "needs_background": "light"
     },
     "output_type": "display_data"
    }
   ],
   "source": [
    "plt.figure(figsize=(15,5))\n",
    "pp.plot()"
   ]
  },
  {
   "cell_type": "markdown",
   "metadata": {
    "pycharm": {
     "name": "#%% md\n"
    }
   },
   "source": [
    "## Plot stellar population for first regularized fit"
   ]
  },
  {
   "cell_type": "code",
   "execution_count": 23,
   "metadata": {
    "collapsed": false,
    "jupyter": {
     "outputs_hidden": false
    },
    "pycharm": {
     "name": "#%%\n"
    }
   },
   "outputs": [],
   "source": [
    "weights = pp.weights[~gas_component]                # Exclude weights of the gas templates\n",
    "weights = weights.reshape(reg_dim)/weights.sum()    # Normalized"
   ]
  },
  {
   "cell_type": "markdown",
   "metadata": {
    "pycharm": {
     "name": "#%% md\n"
    }
   },
   "source": [
    "Compute the light-weighted stellar population parameters and the stellar M/L."
   ]
  },
  {
   "cell_type": "code",
   "execution_count": 24,
   "metadata": {
    "collapsed": false,
    "jupyter": {
     "outputs_hidden": false
    },
    "pycharm": {
     "name": "#%%\n"
    }
   },
   "outputs": [
    {
     "name": "stdout",
     "output_type": "stream",
     "text": [
      "Weighted <lg_age> [yr]: 9.87\n",
      "Weighted <[M/H]>: -0.0782\n",
      "M/L_r: 3.131\n"
     ]
    }
   ],
   "source": [
    "miles.mean_age_metal(weights)\n",
    "miles.mass_to_light(weights, band=\"r\");"
   ]
  },
  {
   "cell_type": "markdown",
   "metadata": {},
   "source": [
    "Plot stellar population mass fraction distribution"
   ]
  },
  {
   "cell_type": "code",
   "execution_count": 25,
   "metadata": {},
   "outputs": [
    {
     "data": {
      "text/plain": "<Figure size 648x216 with 2 Axes>",
      "image/png": "[encoded data removed]"
     },
     "metadata": {
      "needs_background": "light"
     },
     "output_type": "display_data"
    }
   ],
   "source": [
    "plt.figure(figsize=(9,3))\n",
    "miles.plot(weights)"
   ]
  },
  {
   "cell_type": "markdown",
   "metadata": {},
   "source": [
    "## Start bootstrapping\n",
    "\n",
    "IMPORTANT: I store the residuals from the first fit. I will use them to bootstrap the spectrum by [reasampling residuals](https://en.wikipedia.org/wiki/Bootstrapping_(statistics)#Resampling_residuals)"
   ]
  },
  {
   "cell_type": "code",
   "execution_count": 26,
   "metadata": {
    "collapsed": false,
    "jupyter": {
     "outputs_hidden": false
    },
    "pycharm": {
     "name": "#%%\n"
    }
   },
   "outputs": [],
   "source": [
    "bestfit0 = pp.bestfit.copy()\n",
    "resid = galaxy - bestfit0\n",
    "start = pp.sol.copy()"
   ]
  },
  {
   "cell_type": "markdown",
   "metadata": {
    "pycharm": {
     "name": "#%% md\n"
    }
   },
   "source": [
    "Here below I start the bootstrapping loop. All `pPXF` parameters are the same as before, with the exception that now I don't include regularization."
   ]
  },
  {
   "cell_type": "code",
   "execution_count": 57,
   "metadata": {},
   "outputs": [
    {
     "name": "stdout",
     "output_type": "stream",
     "text": [
      "1/10: Elapsed time in pPXF: 2.94 s\n",
      "2/10: Elapsed time in pPXF: 2.50 s\n",
      "3/10: Elapsed time in pPXF: 2.57 s\n",
      "4/10: Elapsed time in pPXF: 2.88 s\n",
      "5/10: Elapsed time in pPXF: 2.54 s\n",
      "6/10: Elapsed time in pPXF: 2.70 s\n",
      "7/10: Elapsed time in pPXF: 2.42 s\n",
      "8/10: Elapsed time in pPXF: 2.24 s\n",
      "9/10: Elapsed time in pPXF: 2.47 s\n",
      "10/10: Elapsed time in pPXF: 2.98 s\n"
     ]
    },
    {
     "data": {
      "text/plain": "<Figure size 1584x216 with 10 Axes>",
      "image/png": "[encoded data removed]"
     },
     "metadata": {
      "needs_background": "light"
     },
     "output_type": "display_data"
    }
   ],
   "source": [
    "np.random.seed(123)\n",
    "\n",
    "plt.subplots(2, 5, sharex=True, sharey=True, figsize=(22, 3))\n",
    "plt.subplots_adjust(hspace=0.04)\n",
    "plt.subplots_adjust(wspace=0.02)\n",
    "\n",
    "nrand = 10\n",
    "weights_array = np.empty((nrand, pp.weights.size))\n",
    "for j in range(nrand):\n",
    "\n",
    "    galaxy1 = bootstrap_residuals(bestfit0, resid)\n",
    "\n",
    "    t = clock()\n",
    "    pp = ppxf(templates, galaxy1, noise, velscale, start,\n",
    "              moments=moments, degree=-1, mdegree=-1, lam=wave, lam_temp=miles.lam_temp,\n",
    "              component=component, gas_component=gas_component, gas_names=gas_names,\n",
    "              reddening=0, gas_reddening=0, quiet=1)\n",
    "    print(f\"{j + 1}/{nrand}: Elapsed time in pPXF: {clock() - t:.2f} s\")\n",
    "\n",
    "    weights_array[j] = pp.weights\n",
    "\n",
    "    # Plot stellar population mass fraction distribution\n",
    "    weights = pp.weights[~gas_component]                # Exclude weights of the gas templates\n",
    "    weights = weights.reshape(reg_dim)/weights.sum()    # Normalized\n",
    "\n",
    "    plt.subplot(2, 5, j + 1)\n",
    "    ylabel=\"[M/H]\" if j in [0, 5] else \"\"\n",
    "    miles.plot(weights, colorbar=False, title=\"\", ylabel=ylabel)\n",
    "\n",
    "pp.weights = weights_array.sum(0)\n",
    "weights_err = weights_array.std(0)"
   ]
  },
  {
   "cell_type": "markdown",
   "metadata": {},
   "source": [
    "Plot the average stellar population mass fraction distribution and uncertainties.\n",
    "See an example of application of this bootstrapping approach with pPXF in [Kacharov et al. (2018)](https://ui.adsabs.harvard.edu/abs/2018MNRAS.480.1973K)"
   ]
  },
  {
   "cell_type": "code",
   "execution_count": 58,
   "metadata": {
    "pycharm": {
     "name": "#%%\n"
    }
   },
   "outputs": [
    {
     "data": {
      "text/plain": "<Figure size 648x216 with 2 Axes>",
      "image/png": "[encoded data removed]"
     },
     "metadata": {
      "needs_background": "light"
     },
     "output_type": "display_data"
    }
   ],
   "source": [
    "weights = pp.weights[~gas_component]  # Exclude weights of the gas templates\n",
    "weights = weights.reshape(reg_dim)/weights.sum()  # Normalized\n",
    "\n",
    "plt.figure(figsize=(9,3))\n",
    "miles.plot(weights)\n",
    "plt.title(\"Averaged Weights Fraction\");"
   ]
  },
  {
   "cell_type": "code",
   "execution_count": 59,
   "metadata": {
    "collapsed": false,
    "jupyter": {
     "outputs_hidden": false
    },
    "pycharm": {
     "name": "#%%\n"
    }
   },
   "outputs": [
    {
     "data": {
      "text/plain": "<Figure size 648x216 with 2 Axes>",
      "image/png": "[encoded data removed]"
     },
     "metadata": {
      "needs_background": "light"
     },
     "output_type": "display_data"
    }
   ],
   "source": [
    "weights_err = weights_err[~gas_component]  # Exclude weights of the gas templates\n",
    "weights_err = weights_err.reshape(reg_dim)/weights_err.sum()  # Normalized\n",
    "\n",
    "plt.figure(figsize=(9,3))\n",
    "miles.plot(weights_err)\n",
    "plt.title(\"Weights Standard Deviation\");"
   ]
  }
 ],
 "metadata": {
  "kernelspec": {
   "display_name": "Python 3 (ipykernel)",
   "language": "python",
   "name": "python3"
  },
  "language_info": {
   "codemirror_mode": {
    "name": "ipython",
    "version": 3
   },
   "file_extension": ".py",
   "mimetype": "text/x-python",
   "name": "python",
   "nbconvert_exporter": "python",
   "pygments_lexer": "ipython3",
   "version": "3.9.12"
  }
 },
 "nbformat": 4,
 "nbformat_minor": 4
}